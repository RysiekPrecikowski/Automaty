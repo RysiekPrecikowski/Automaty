{
 "cells": [
  {
   "cell_type": "code",
   "execution_count": 3,
   "outputs": [],
   "source": [
    "from FA import FiniteAutomata, TransitionFunction"
   ],
   "metadata": {
    "collapsed": false,
    "pycharm": {
     "name": "#%%\n"
    }
   }
  },
  {
   "cell_type": "code",
   "execution_count": 6,
   "outputs": [],
   "source": [
    "table = {\n",
    "        0: {0: {0},\n",
    "            1: {0, 1}}\n",
    "}\n",
    "\n",
    "\n",
    "for i in range(1, 10):\n",
    "    table[i] = {0: {i + 1},\n",
    "                1: {i + 1}}\n",
    "\n",
    "table[10] = {0: {}, 1:{}}\n",
    "\n",
    "func = TransitionFunction(\n",
    "    table,\n",
    "    {10},\n",
    "    0\n",
    ")\n",
    "# func_converted = func.convert_to_deterministic()\n",
    "# automata = FiniteAutomata(func)\n",
    "\n",
    "# print(len(func_converted.table))"
   ],
   "metadata": {
    "collapsed": false,
    "pycharm": {
     "name": "#%%\n"
    }
   }
  },
  {
   "cell_type": "markdown",
   "source": [
    "# 1 d\n",
    "\n"
   ],
   "metadata": {
    "collapsed": false,
    "pycharm": {
     "name": "#%% md\n"
    }
   }
  },
  {
   "cell_type": "code",
   "execution_count": 5,
   "outputs": [
    {
     "name": "stdout",
     "output_type": "stream",
     "text": [
      "STARTING {q1 00 01}\n",
      "\n",
      "CONVERTED TO DETERMINISTIC\n",
      "{00 q1 01} ---> {\n",
      "                 0 --> {10 01},\n",
      "                 1 --> {00 11},\n",
      "                 }\n",
      "{10 01} ---> {\n",
      "              0 --> {20 01},\n",
      "              1 --> {10 11},\n",
      "              }\n",
      "{00 11} ---> {\n",
      "              0 --> {10 11},\n",
      "              1 --> {21 00},\n",
      "              }\n",
      "{21 00} ---> {\n",
      "              0 --> {21 10},\n",
      "              1 --> {00 01},\n",
      "              }\n",
      "{10 11} ---> {\n",
      "              0 --> {20 11},\n",
      "              1 --> {21 10},\n",
      "              }\n",
      "{20 11} ---> {\n",
      "              0 --> {30 11},\n",
      "              1 --> {20 21},\n",
      "              }\n",
      "{30 11} ---> {\n",
      "              0 --> {40 11},\n",
      "              1 --> {21 30},\n",
      "              }\n",
      "{21 10} ---> {\n",
      "              0 --> {21 20},\n",
      "              1 --> {10 01},\n",
      "              }\n",
      "{00 01} ---> {\n",
      "              0 --> {10 01},\n",
      "              1 --> {00 11},\n",
      "              }\n",
      "{20 21} ---> {\n",
      "              0 --> {21 30},\n",
      "              1 --> {20 01},\n",
      "              }\n",
      "{21 30} ---> {\n",
      "              0 --> {21 40},\n",
      "              1 --> {30 01},\n",
      "              }\n",
      "{20 01} ---> {\n",
      "              0 --> {30 01},\n",
      "              1 --> {20 11},\n",
      "              }\n",
      "{40 11} ---> {\n",
      "              0 --> {00 11},\n",
      "              1 --> {21 40},\n",
      "              }\n",
      "{21 40} ---> {\n",
      "              0 --> {21 00},\n",
      "              1 --> {40 01},\n",
      "              }\n",
      "{30 01} ---> {\n",
      "              0 --> {40 01},\n",
      "              1 --> {30 11},\n",
      "              }\n",
      "{40 01} ---> {\n",
      "              0 --> {00 01},\n",
      "              1 --> {40 11},\n",
      "              }\n",
      "\n",
      "ACCEPTING STATES\n",
      "{00 11}\n",
      "{30 01}\n",
      "{00 01}\n",
      "{00 q1 01}\n",
      "{40 01}\n",
      "{10 01}\n",
      "{20 01}\n",
      "{21 00}\n"
     ]
    }
   ],
   "source": [
    "table = {\n",
    "    'q1': {TransitionFunction.Epsilon :{'01', '00'}},\n",
    "\n",
    "    '01': {0: {'01'}, 1: {'11'}},\n",
    "    '11': {0: {'11'}, 1: {'21'}},\n",
    "    '21': {0: {'21'}, 1: {'01'}},\n",
    "\n",
    "    '00': {0: {'10'}, 1: {'00'}},\n",
    "    '10': {0: {'20'}, 1: {'10'}},\n",
    "    '20': {0: {'30'}, 1: {'20'}},\n",
    "    '30': {0: {'40'}, 1: {'30'}},\n",
    "    '40': {0: {'00'}, 1: {'40'}},\n",
    "}\n",
    "\n",
    "func = TransitionFunction(\n",
    "    table,\n",
    "    {'01', '00'},\n",
    "    'q1'\n",
    ")\n",
    "func_converted = func.convert_to_deterministic()\n",
    "automata = FiniteAutomata(func)\n"
   ],
   "metadata": {
    "collapsed": false,
    "pycharm": {
     "name": "#%%\n"
    }
   }
  },
  {
   "cell_type": "markdown",
   "source": [
    "# 11"
   ],
   "metadata": {
    "collapsed": false,
    "pycharm": {
     "name": "#%% md\n"
    }
   }
  },
  {
   "cell_type": "markdown",
   "source": [
    "## 01*0"
   ],
   "metadata": {
    "collapsed": false,
    "pycharm": {
     "name": "#%% md\n"
    }
   }
  },
  {
   "cell_type": "code",
   "execution_count": 9,
   "outputs": [
    {
     "name": "stdout",
     "output_type": "stream",
     "text": [
      "STARTING {0}\n",
      "\n",
      "CONVERTED TO DETERMINISTIC\n",
      "{0} ---> {\n",
      "          0 --> {1 2},\n",
      "          1 --> {},\n",
      "          }\n",
      "{} ---> {\n",
      "         0 --> {},\n",
      "         1 --> {},\n",
      "         }\n",
      "{1 2} ---> {\n",
      "            0 --> {},\n",
      "            1 --> {1 2 3 4},\n",
      "            }\n",
      "{1 2 3 4} ---> {\n",
      "                0 --> {5},\n",
      "                1 --> {1 2 3 4},\n",
      "                }\n",
      "{5} ---> {\n",
      "          0 --> {},\n",
      "          1 --> {},\n",
      "          }\n",
      "\n",
      "ACCEPTING STATES\n",
      "{5}\n"
     ]
    }
   ],
   "source": [
    "table = {\n",
    "    0: {'0': {1}},\n",
    "    1: {TransitionFunction.Epsilon: {2}},\n",
    "    2: {'1': {3}},\n",
    "    3: {TransitionFunction.Epsilon: {2, 4}},\n",
    "    4: {TransitionFunction.Epsilon: {1},\n",
    "        '0': {5}},\n",
    "    5: {}\n",
    "}\n",
    "\n",
    "func = TransitionFunction(\n",
    "    table,\n",
    "    {5},\n",
    "    0\n",
    ")\n",
    "func_converted = func.convert_to_deterministic()\n",
    "\n"
   ],
   "metadata": {
    "collapsed": false,
    "pycharm": {
     "name": "#%%\n"
    }
   }
  },
  {
   "cell_type": "markdown",
   "source": [
    "## (0+1)10"
   ],
   "metadata": {
    "collapsed": false
   }
  },
  {
   "cell_type": "code",
   "execution_count": 11,
   "outputs": [
    {
     "name": "stdout",
     "output_type": "stream",
     "text": [
      "STARTING {0 1 3}\n",
      "\n",
      "CONVERTED TO DETERMINISTIC\n",
      "{0 1 3} ---> {\n",
      "              0 --> {4 5},\n",
      "              1 --> {2 5},\n",
      "              }\n",
      "{2 5} ---> {\n",
      "            0 --> {},\n",
      "            1 --> {6},\n",
      "            }\n",
      "{} ---> {\n",
      "         0 --> {},\n",
      "         1 --> {},\n",
      "         }\n",
      "{4 5} ---> {\n",
      "            0 --> {},\n",
      "            1 --> {6},\n",
      "            }\n",
      "{6} ---> {\n",
      "          0 --> {7},\n",
      "          1 --> {},\n",
      "          }\n",
      "{7} ---> {\n",
      "          0 --> {},\n",
      "          1 --> {},\n",
      "          }\n",
      "\n",
      "ACCEPTING STATES\n",
      "{7}\n"
     ]
    }
   ],
   "source": [
    "table = {\n",
    "    0: {TransitionFunction.Epsilon: {1, 3}},\n",
    "    1: {'1': {2}},\n",
    "    2: {TransitionFunction.Epsilon: {5}},\n",
    "    3: {'0': {4}},\n",
    "    4: {TransitionFunction.Epsilon: {5}},\n",
    "    5: {'1': {6}},\n",
    "    6: {'0': {7}},\n",
    "    7: {}\n",
    "}\n",
    "\n",
    "func = TransitionFunction(\n",
    "    table,\n",
    "    {7},\n",
    "    0\n",
    ")\n",
    "func_converted = func.convert_to_deterministic()\n"
   ],
   "metadata": {
    "collapsed": false,
    "pycharm": {
     "name": "#%%\n"
    }
   }
  },
  {
   "cell_type": "markdown",
   "source": [
    "## aa(a+b)*b"
   ],
   "metadata": {
    "collapsed": false
   }
  },
  {
   "cell_type": "code",
   "execution_count": 4,
   "outputs": [
    {
     "name": "stdout",
     "output_type": "stream",
     "text": [
      "STARTING {0}\n",
      "\n",
      "CONVERTED TO DETERMINISTIC\n",
      "{0} ---> {\n",
      "          b --> {},\n",
      "          a --> {1},\n",
      "          }\n",
      "{} ---> {\n",
      "         b --> {},\n",
      "         a --> {},\n",
      "         }\n",
      "{1} ---> {\n",
      "          b --> {},\n",
      "          a --> {2 3 4 6},\n",
      "          }\n",
      "{2 3 4 6} ---> {\n",
      "                b --> {3 4 6 7 8 9},\n",
      "                a --> {3 4 5 6 8 9},\n",
      "                }\n",
      "{3 4 6 7 8 9} ---> {\n",
      "                    b --> {3 4 6 7 8 9 10},\n",
      "                    a --> {3 4 5 6 8 9},\n",
      "                    }\n",
      "{3 4 5 6 8 9} ---> {\n",
      "                    b --> {3 4 6 7 8 9 10},\n",
      "                    a --> {3 4 5 6 8 9},\n",
      "                    }\n",
      "{3 4 6 7 8 9 10} ---> {\n",
      "                       b --> {3 4 6 7 8 9 10},\n",
      "                       a --> {3 4 5 6 8 9},\n",
      "                       }\n",
      "\n",
      "ACCEPTING STATES\n",
      "{3 4 6 7 8 9 10}\n",
      "STARTING {S}\n",
      "\n",
      "CONVERTED TO DETERMINISTIC\n",
      "{S} ---> {\n",
      "          1 --> {},\n",
      "          0 --> {C},\n",
      "          }\n",
      "{} ---> {\n",
      "         1 --> {},\n",
      "         0 --> {},\n",
      "         }\n",
      "{C} ---> {\n",
      "          1 --> {C},\n",
      "          0 --> {B},\n",
      "          }\n",
      "{B} ---> {\n",
      "          1 --> {C F},\n",
      "          0 --> {},\n",
      "          }\n",
      "{C F} ---> {\n",
      "            1 --> {C},\n",
      "            0 --> {B},\n",
      "            }\n",
      "\n",
      "ACCEPTING STATES\n",
      "{C F}\n"
     ]
    },
    {
     "data": {
      "text/plain": "<FA.TransitionFunction at 0x7f0d3be01400>"
     },
     "execution_count": 4,
     "metadata": {},
     "output_type": "execute_result"
    }
   ],
   "source": [
    "table = {\n",
    "    0: {'a': {1}},\n",
    "    1: {'a': {2}},\n",
    "    2: {TransitionFunction.Epsilon: {3}},\n",
    "    3: {TransitionFunction.Epsilon: {4, 6}},\n",
    "    4: {'a': {5}},\n",
    "    5: {TransitionFunction.Epsilon: {8}},\n",
    "    6: {'b': {7}},\n",
    "    7: {TransitionFunction.Epsilon: {8}},\n",
    "    8: {TransitionFunction.Epsilon: {3, 9}},\n",
    "    9: {'b': {10}},\n",
    "    10: {}\n",
    "}\n",
    "\n",
    "func = TransitionFunction(\n",
    "    table,\n",
    "    {10},\n",
    "    0\n",
    ")\n",
    "func_converted = func.convert_to_deterministic()\n",
    "\n",
    "table = {\n",
    "    'S': {'0': {'C'}},\n",
    "    'B': {'1': {'C', 'F'}},\n",
    "    'C': {'0': {'B'}, '1' :{'C'}},\n",
    "    'F': {}\n",
    "}\n",
    "\n",
    "TransitionFunction(table, {'F'}, 'S').convert_to_deterministic()"
   ],
   "metadata": {
    "collapsed": false,
    "pycharm": {
     "name": "#%%\n"
    }
   }
  }
 ],
 "metadata": {
  "kernelspec": {
   "display_name": "Python 3",
   "language": "python",
   "name": "python3"
  },
  "language_info": {
   "codemirror_mode": {
    "name": "ipython",
    "version": 2
   },
   "file_extension": ".py",
   "mimetype": "text/x-python",
   "name": "python",
   "nbconvert_exporter": "python",
   "pygments_lexer": "ipython2",
   "version": "2.7.6"
  }
 },
 "nbformat": 4,
 "nbformat_minor": 0
}