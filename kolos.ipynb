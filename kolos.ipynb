{
 "cells": [
  {
   "cell_type": "code",
   "execution_count": 2,
   "metadata": {
    "collapsed": true
   },
   "outputs": [],
   "source": [
    "from FA import *"
   ]
  },
  {
   "cell_type": "code",
   "execution_count": 2,
   "outputs": [
    {
     "name": "stdout",
     "output_type": "stream",
     "text": [
      "{0: {1: True,\n",
      "     2: False,\n",
      "     3: True,\n",
      "     4: False,\n",
      "     5: True,\n",
      "     6: False,\n",
      "     7: True,\n",
      "     8: False},\n",
      " 1: {2: True, 3: False, 4: True, 5: False, 6: True, 7: False, 8: True},\n",
      " 2: {3: True, 4: False, 5: True, 6: False, 7: True, 8: False},\n",
      " 3: {4: True, 5: False, 6: True, 7: False, 8: True},\n",
      " 4: {5: True, 6: False, 7: True, 8: False},\n",
      " 5: {6: True, 7: False, 8: True},\n",
      " 6: {7: True, 8: False},\n",
      " 7: {8: True}}\n",
      "{0: {1: True, 2: True, 3: True, 4: True, 5: True, 6: True, 7: True, 8: True},\n",
      " 1: {2: True, 3: True, 4: True, 5: True, 6: True, 7: True, 8: True},\n",
      " 2: {3: True, 4: True, 5: True, 6: True, 7: True, 8: True},\n",
      " 3: {4: True, 5: True, 6: True, 7: True, 8: True},\n",
      " 4: {5: True, 6: True, 7: True, 8: True},\n",
      " 5: {6: True, 7: True, 8: True},\n",
      " 6: {7: True, 8: True},\n",
      " 7: {8: True}}\n",
      "\n",
      "STARTING : {0}\n",
      "ACCEPTING: {3}, {1}, {5}, {7}, \n",
      "{2} ---> {\n",
      "          1 --> {3},\n",
      "          0 --> {2},\n",
      "          }\n",
      "{8} ---> {\n",
      "          1 --> {8},\n",
      "          0 --> {8},\n",
      "          }\n",
      "{7} ---> {\n",
      "          1 --> {8},\n",
      "          0 --> {5},\n",
      "          }\n",
      "{3} ---> {\n",
      "          1 --> {4},\n",
      "          0 --> {5},\n",
      "          }\n",
      "{1} ---> {\n",
      "          1 --> {1},\n",
      "          0 --> {1},\n",
      "          }\n",
      "{6} ---> {\n",
      "          1 --> {7},\n",
      "          0 --> {2},\n",
      "          }\n",
      "{5} ---> {\n",
      "          1 --> {6},\n",
      "          0 --> {5},\n",
      "          }\n",
      "{4} ---> {\n",
      "          1 --> {8},\n",
      "          0 --> {2},\n",
      "          }\n",
      "{0} ---> {\n",
      "          1 --> {3},\n",
      "          0 --> {1},\n",
      "          }\n"
     ]
    }
   ],
   "source": [
    "t = {\n",
    "    0: {'0': {1}, '1': {3}},\n",
    "    1: {'0': {1}, '1': {1}},\n",
    "    2: {'0': {2}, '1': {3}},\n",
    "    3: {'0': {5}, '1': {4}},\n",
    "    4: {'0': {2}, '1': {8}},\n",
    "    5: {'0': {5}, '1': {6}},\n",
    "    6: {'0': {2}, '1': {7}},\n",
    "    7: {'0': {5}, '1': {8}},\n",
    "    8: {'0': {8}, '1': {8}},\n",
    "\n",
    "}\n",
    "\n",
    "func = TransitionFunction(t, {1,3,5,7}, 0)\n",
    "func.minimize()\n",
    "\n",
    "automaton = FiniteAutomata(func)\n",
    "# automaton.run(\"1011011\")"
   ],
   "metadata": {
    "collapsed": false,
    "pycharm": {
     "name": "#%%\n"
    }
   }
  },
  {
   "cell_type": "code",
   "execution_count": 3,
   "outputs": [
    {
     "name": "stdout",
     "output_type": "stream",
     "text": [
      "STARTING {0}\n",
      "\n",
      "CONVERTED TO DETERMINISTIC\n",
      "{0} ---> {\n",
      "          b --> {},\n",
      "          a --> {1},\n",
      "          }\n",
      "{} ---> {\n",
      "         b --> {},\n",
      "         a --> {},\n",
      "         }\n",
      "{1} ---> {\n",
      "          b --> {5},\n",
      "          a --> {2 3 5},\n",
      "          }\n",
      "{2 3 5} ---> {\n",
      "              b --> {3 4 5 6},\n",
      "              a --> {},\n",
      "              }\n",
      "{5} ---> {\n",
      "          b --> {6},\n",
      "          a --> {},\n",
      "          }\n",
      "{3 4 5 6} ---> {\n",
      "                b --> {3 4 5 6},\n",
      "                a --> {},\n",
      "                }\n",
      "{6} ---> {\n",
      "          b --> {},\n",
      "          a --> {},\n",
      "          }\n",
      "\n",
      "ACCEPTING STATES\n",
      "{3 4 5 6}\n",
      "{6}\n"
     ]
    },
    {
     "data": {
      "text/plain": "<FA.TransitionFunction at 0x7f2bad35eb80>"
     },
     "execution_count": 3,
     "metadata": {},
     "output_type": "execute_result"
    }
   ],
   "source": [
    "\n",
    "t = {\n",
    "    0: {'a': {1}},\n",
    "    1: {'a': {2}, 'b': {5}},\n",
    "    2: {TransitionFunction.Epsilon: {3}},\n",
    "    3: {'b': {4}, TransitionFunction.Epsilon: {5}},\n",
    "    4: {TransitionFunction.Epsilon: {3, 5}},\n",
    "    5: {'b': {6}},\n",
    "    6: {},\n",
    "\n",
    "}\n",
    "TransitionFunction(t, {6}, 0).convert_to_deterministic()"
   ],
   "metadata": {
    "collapsed": false,
    "pycharm": {
     "name": "#%%\n"
    }
   }
  },
  {
   "cell_type": "code",
   "execution_count": 7,
   "outputs": [
    {
     "name": "stdout",
     "output_type": "stream",
     "text": [
      "{'A': {'B': False,\n",
      "       'C': True,\n",
      "       'D': True,\n",
      "       'E': True,\n",
      "       'F': True,\n",
      "       'G': True,\n",
      "       'H': False},\n",
      " 'B': {'C': True, 'D': True, 'E': True, 'F': True, 'G': True, 'H': False},\n",
      " 'C': {'D': False, 'E': False, 'F': False, 'G': False, 'H': True},\n",
      " 'D': {'E': False, 'F': False, 'G': False, 'H': True},\n",
      " 'E': {'F': False, 'G': False, 'H': True},\n",
      " 'F': {'G': False, 'H': True},\n",
      " 'G': {'H': True}}\n",
      "{'A': {'B': True,\n",
      "       'C': True,\n",
      "       'D': True,\n",
      "       'E': True,\n",
      "       'F': True,\n",
      "       'G': True,\n",
      "       'H': True},\n",
      " 'B': {'C': True, 'D': True, 'E': True, 'F': True, 'G': True, 'H': True},\n",
      " 'C': {'D': True, 'E': True, 'F': False, 'G': True, 'H': True},\n",
      " 'D': {'E': True, 'F': True, 'G': True, 'H': True},\n",
      " 'E': {'F': True, 'G': True, 'H': True},\n",
      " 'F': {'G': True, 'H': True},\n",
      " 'G': {'H': True}}\n",
      "\n",
      "STARTING : {A}\n",
      "ACCEPTING: {B}, {H}, {A}, \n",
      "{E} ---> {\n",
      "          0 --> {F C},\n",
      "          1 --> {G},\n",
      "          }\n",
      "{H} ---> {\n",
      "          0 --> {B},\n",
      "          1 --> {H},\n",
      "          }\n",
      "{D} ---> {\n",
      "          0 --> {E},\n",
      "          1 --> {F C},\n",
      "          }\n",
      "{A} ---> {\n",
      "          0 --> {F C},\n",
      "          1 --> {G},\n",
      "          }\n",
      "{F C} ---> {\n",
      "            0 --> {F C},\n",
      "            1 --> {E},\n",
      "            }\n",
      "{B} ---> {\n",
      "          0 --> {A},\n",
      "          1 --> {B},\n",
      "          }\n",
      "{G} ---> {\n",
      "          0 --> {A},\n",
      "          1 --> {D},\n",
      "          }\n"
     ]
    }
   ],
   "source": [
    "\n",
    "t = {\n",
    "    'A': {'0': {'C'}, '1': {'G'}},\n",
    "    'B': {'0': {'A'}, '1': {'B'}},\n",
    "    'C': {'0': {'C'}, '1': {'E'}},\n",
    "    'D': {'0': {'E'}, '1': {'F'}},\n",
    "    'E': {'0': {'F'}, '1': {'G'}},\n",
    "    'F': {'0': {'C'}, '1': {'E'}},\n",
    "    'G': {'0': {'A'}, '1': {'D'}},\n",
    "    'H': {'0': {'B'}, '1': {'H'}},\n",
    "}\n",
    "\n",
    "TransitionFunction(t, {'A', 'B', 'H'}, 'A').minimize()"
   ],
   "metadata": {
    "collapsed": false,
    "pycharm": {
     "name": "#%%\n"
    }
   }
  },
  {
   "cell_type": "code",
   "execution_count": null,
   "outputs": [],
   "source": [],
   "metadata": {
    "collapsed": false,
    "pycharm": {
     "name": "#%%\n"
    }
   }
  }
 ],
 "metadata": {
  "kernelspec": {
   "name": "pycharm-40d09a61",
   "language": "python",
   "display_name": "PyCharm (ESUM)"
  },
  "language_info": {
   "codemirror_mode": {
    "name": "ipython",
    "version": 2
   },
   "file_extension": ".py",
   "mimetype": "text/x-python",
   "name": "python",
   "nbconvert_exporter": "python",
   "pygments_lexer": "ipython2",
   "version": "2.7.6"
  }
 },
 "nbformat": 4,
 "nbformat_minor": 0
}